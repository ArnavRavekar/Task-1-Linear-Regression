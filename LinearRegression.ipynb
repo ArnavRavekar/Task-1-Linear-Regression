# 📌 1. Import Libraries
import pandas as pd
from sklearn.linear_model import LinearRegression
from sklearn.model_selection import train_test_split
from sklearn.metrics import mean_squared_error, r2_score
import matplotlib.pyplot as plt
import numpy as np

# 📌 2. Load the Data
train = pd.read_csv('train.csv')
test = pd.read_csv('test.csv')
sample_submission = pd.read_csv('sample_submission.csv')

# 📌 3. Select Features and Target
features = ['GrLivArea', 'BedroomAbvGr', 'FullBath']
target = 'SalePrice'

X = train[features]
y = train[target]

# 📌 4. Check and Fill Missing Values
if X.isnull().sum().any():
    X = X.fillna(X.median())

# 📌 5. Split into Train/Validation Sets
X_train, X_val, y_train, y_val = train_test_split(X, y, test_size=0.2, random_state=42)

# 📌 6. Train Linear Regression Model
model = LinearRegression()
model.fit(X_train, y_train)

# 📌 7. Predict and Evaluate on Validation Set
y_pred = model.predict(X_val)

mse = mean_squared_error(y_val, y_pred)
r2 = r2_score(y_val, y_pred)

print(f"✅ Mean Squared Error: {mse:.2f}")
print(f"✅ R² Score: {r2:.4f}")

# 📌 8. Visualize Predictions
plt.figure(figsize=(8, 6))
plt.scatter(y_val, y_pred, alpha=0.6, color='blue')
plt.plot([y.min(), y.max()], [y.min(), y.max()], 'r--')
plt.xlabel("Actual Sale Price")
plt.ylabel("Predicted Sale Price")
plt.title("Predicted vs Actual Sale Prices")
plt.grid(True)
plt.show()

# 📌 9. Predict on Test Set
X_test = test[features]
X_test = X_test.fillna(X_test.median())  # Fill missing values

test_preds = model.predict(X_test)

# 📌 10. Prepare Submission File
submission = pd.read_csv('sample_submission.csv')
submission['SalePrice'] = test_preds
submission.to_csv('my_submission.csv', index=False)

# 📌 11. Download the File (for Colab)
from google.colab import files
files.download('my_submission.csv')

